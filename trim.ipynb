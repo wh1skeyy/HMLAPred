{
 "cells": [
  {
   "cell_type": "code",
   "execution_count": null,
   "id": "4731d24c",
   "metadata": {},
   "outputs": [],
   "source": [
    "# Read the CSV file\n",
    "import pandas as pd\n",
    "trimmed_data = pd.read_csv(\"data.csv\", nrows=2000)\n",
    "\n",
    "# Save the trimmed dataset to a new CSV file\n",
    "trimmed_file_path = 'trimmed_data.csv'\n",
    "trimmed_data.to_csv(trimmed_file_path, index=False)\n",
    "\n",
    "print(f\"Trimmed dataset saved to {trimmed_file_path}\")"
   ]
  },
  {
   "cell_type": "code",
   "execution_count": null,
   "id": "bd623b17",
   "metadata": {},
   "outputs": [],
   "source": [
    "pd.set_option('display.max_columns', None)\n",
    "print(trimmed_data.columns)"
   ]
  }
 ],
 "metadata": {
  "kernelspec": {
   "display_name": "base",
   "language": "python",
   "name": "python3"
  },
  "language_info": {
   "codemirror_mode": {
    "name": "ipython",
    "version": 3
   },
   "file_extension": ".py",
   "mimetype": "text/x-python",
   "name": "python",
   "nbconvert_exporter": "python",
   "pygments_lexer": "ipython3",
   "version": "3.12.7"
  }
 },
 "nbformat": 4,
 "nbformat_minor": 5
}
