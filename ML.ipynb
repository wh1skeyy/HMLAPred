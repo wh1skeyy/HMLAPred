{
 "cells": [
  {
   "cell_type": "code",
   "execution_count": 1,
   "id": "c29c0e3f",
   "metadata": {},
   "outputs": [
    {
     "name": "stderr",
     "output_type": "stream",
     "text": [
      "C:\\Temp\\ipykernel_14748\\494984042.py:3: DtypeWarning: Columns (15,20,30) have mixed types. Specify dtype option on import or set low_memory=False.\n",
      "  df = pd.read_csv('data_fixed_3.csv')\n"
     ]
    }
   ],
   "source": [
    "import pandas as pd\n",
    "\n",
    "df = pd.read_csv('data_fixed_3.csv')"
   ]
  },
  {
   "cell_type": "code",
   "execution_count": 3,
   "id": "15c7e78b",
   "metadata": {},
   "outputs": [
    {
     "name": "stdout",
     "output_type": "stream",
     "text": [
      "[1 3 8 7 2]\n"
     ]
    }
   ],
   "source": [
    "print(df['action_taken'].unique())\n",
    "action_taken_mapping = {\n",
    "    1: \"Loan originated\",\n",
    "    2: \"Application approved but not accepted\",\n",
    "    3: \"Application denied\",\n",
    "    7: \"Preapproval request denied\",\n",
    "    8: \"Preapproval request approved but not accepted\"\n",
    "}\n",
    "\n",
    "df['action_taken'] = df['action_taken'].map(action_taken_mapping)"
   ]
  },
  {
   "cell_type": "code",
   "execution_count": 4,
   "id": "0878d54c",
   "metadata": {},
   "outputs": [],
   "source": [
    "from sklearn.preprocessing import LabelEncoder\n",
    "\n",
    "encoder = LabelEncoder()\n",
    "for col in df.select_dtypes(include='object').columns:\n",
    "    df[col] = encoder.fit_transform(df[col].astype(str))"
   ]
  },
  {
   "cell_type": "code",
   "execution_count": 5,
   "id": "7925d379",
   "metadata": {},
   "outputs": [],
   "source": [
    "X = df.drop(columns=['action_taken'])  # Dropping non-relevant columns\n",
    "Y = df['action_taken']  # Target variable"
   ]
  },
  {
   "cell_type": "code",
   "execution_count": 6,
   "id": "ddb3505c",
   "metadata": {},
   "outputs": [],
   "source": [
    "from sklearn.model_selection import train_test_split\n",
    "\n",
    "x_train , x_test , y_train , y_test = train_test_split(X , Y , test_size=0.2 , random_state=69 , shuffle=True)"
   ]
  },
  {
   "cell_type": "code",
   "execution_count": 7,
   "id": "91c94245",
   "metadata": {},
   "outputs": [
    {
     "name": "stdout",
     "output_type": "stream",
     "text": [
      "X_Test Shape =  (1644176, 37)\n",
      "Y_Test Shape =  (1644176,)\n",
      "X_Train Shape =  (6576701, 37)\n",
      "Y_Train Shape =  (6576701,)\n"
     ]
    }
   ],
   "source": [
    "print(\"X_Test Shape = \" , x_test.shape)\n",
    "print(\"Y_Test Shape = \" , y_test.shape)\n",
    "print(\"X_Train Shape = \" , x_train.shape)\n",
    "print(\"Y_Train Shape = \" , y_train.shape)"
   ]
  },
  {
   "cell_type": "code",
   "execution_count": 8,
   "id": "7b66c7d7",
   "metadata": {},
   "outputs": [
    {
     "name": "stdout",
     "output_type": "stream",
     "text": [
      "Defaulting to user installation because normal site-packages is not writeable\n",
      "Requirement already satisfied: catboost in c:\\users\\anh tuan\\appdata\\roaming\\python\\python312\\site-packages (1.2.8)\n",
      "Requirement already satisfied: lightgbm in c:\\users\\anh tuan\\appdata\\roaming\\python\\python312\\site-packages (4.6.0)\n",
      "Requirement already satisfied: graphviz in c:\\users\\anh tuan\\appdata\\roaming\\python\\python312\\site-packages (from catboost) (0.20.3)\n",
      "Requirement already satisfied: matplotlib in d:\\jupyter\\lib\\site-packages (from catboost) (3.9.2)\n",
      "Requirement already satisfied: numpy<3.0,>=1.16.0 in d:\\jupyter\\lib\\site-packages (from catboost) (1.26.4)\n",
      "Requirement already satisfied: pandas>=0.24 in d:\\jupyter\\lib\\site-packages (from catboost) (2.2.2)\n",
      "Requirement already satisfied: scipy in d:\\jupyter\\lib\\site-packages (from catboost) (1.13.1)\n",
      "Requirement already satisfied: plotly in d:\\jupyter\\lib\\site-packages (from catboost) (5.24.1)\n",
      "Requirement already satisfied: six in c:\\users\\anh tuan\\appdata\\roaming\\python\\python312\\site-packages (from catboost) (1.17.0)\n",
      "Requirement already satisfied: python-dateutil>=2.8.2 in c:\\users\\anh tuan\\appdata\\roaming\\python\\python312\\site-packages (from pandas>=0.24->catboost) (2.9.0.post0)\n",
      "Requirement already satisfied: pytz>=2020.1 in d:\\jupyter\\lib\\site-packages (from pandas>=0.24->catboost) (2024.1)\n",
      "Requirement already satisfied: tzdata>=2022.7 in d:\\jupyter\\lib\\site-packages (from pandas>=0.24->catboost) (2023.3)\n",
      "Requirement already satisfied: contourpy>=1.0.1 in d:\\jupyter\\lib\\site-packages (from matplotlib->catboost) (1.2.0)\n",
      "Requirement already satisfied: cycler>=0.10 in d:\\jupyter\\lib\\site-packages (from matplotlib->catboost) (0.11.0)\n",
      "Requirement already satisfied: fonttools>=4.22.0 in d:\\jupyter\\lib\\site-packages (from matplotlib->catboost) (4.51.0)\n",
      "Requirement already satisfied: kiwisolver>=1.3.1 in d:\\jupyter\\lib\\site-packages (from matplotlib->catboost) (1.4.4)\n",
      "Requirement already satisfied: packaging>=20.0 in c:\\users\\anh tuan\\appdata\\roaming\\python\\python312\\site-packages (from matplotlib->catboost) (24.2)\n",
      "Requirement already satisfied: pillow>=8 in d:\\jupyter\\lib\\site-packages (from matplotlib->catboost) (10.4.0)\n",
      "Requirement already satisfied: pyparsing>=2.3.1 in d:\\jupyter\\lib\\site-packages (from matplotlib->catboost) (3.1.2)\n",
      "Requirement already satisfied: tenacity>=6.2.0 in d:\\jupyter\\lib\\site-packages (from plotly->catboost) (8.2.3)\n",
      "Note: you may need to restart the kernel to use updated packages.\n"
     ]
    }
   ],
   "source": [
    "%pip install catboost lightgbm\n",
    "from sklearn.ensemble import GradientBoostingClassifier, AdaBoostClassifier, ExtraTreesClassifier, RandomForestClassifier, BaggingClassifier\n",
    "from lightgbm import LGBMClassifier\n",
    "from catboost import CatBoostClassifier\n",
    "from xgboost import XGBClassifier\n",
    "from sklearn.tree import DecisionTreeClassifier"
   ]
  },
  {
   "cell_type": "code",
   "execution_count": null,
   "id": "3a5dc6f1",
   "metadata": {},
   "outputs": [
    {
     "name": "stdout",
     "output_type": "stream",
     "text": [
      "[LightGBM] [Info] Auto-choosing row-wise multi-threading, the overhead of testing was 0.374752 seconds.\n",
      "You can set `force_row_wise=true` to remove the overhead.\n",
      "And if memory is not enough, you can set `force_col_wise=true`.\n",
      "[LightGBM] [Info] Total Bins 2860\n",
      "[LightGBM] [Info] Number of data points in the train set: 6576701, number of used features: 37\n",
      "[LightGBM] [Info] Start training from score -3.283618\n",
      "[LightGBM] [Info] Start training from score -1.418379\n",
      "[LightGBM] [Info] Start training from score -0.368248\n",
      "[LightGBM] [Info] Start training from score -3.870345\n",
      "[LightGBM] [Info] Start training from score -4.879006\n",
      "[LightGBM] [Warning] No further splits with positive gain, best gain: -inf\n"
     ]
    }
   ],
   "source": [
    "# Initialize classifiers with moderate complexity\n",
    "cls1 = GradientBoostingClassifier(n_estimators=10)\n",
    "cls2 = LGBMClassifier(n_estimators=10)\n",
    "cls3 = BaggingClassifier(estimator=DecisionTreeClassifier(), n_estimators=10)\n",
    "cls4 = AdaBoostClassifier(estimator=DecisionTreeClassifier(), n_estimators=10)\n",
    "cls5 = XGBClassifier(n_estimators=10, max_depth=6, eval_metric='logloss')\n",
    "cls6 = RandomForestClassifier(n_estimators=10)\n",
    "cls7 = ExtraTreesClassifier(n_estimators=10)\n",
    "cls8 = DecisionTreeClassifier()\n",
    "cls9 = CatBoostClassifier(logging_level='Silent', n_estimators=10)\n",
    "\n",
    "# Fit the classifiers\n",
    "cls1.fit(x_train, y_train)\n",
    "cls2.fit(x_train, y_train)\n",
    "cls3.fit(x_train, y_train)\n",
    "cls4.fit(x_train, y_train)\n",
    "cls5.fit(x_train, y_train)\n",
    "cls6.fit(x_train, y_train)\n",
    "cls7.fit(x_train, y_train)\n",
    "cls8.fit(x_train, y_train)\n",
    "cls9.fit(x_train, y_train)"
   ]
  },
  {
   "cell_type": "code",
   "execution_count": null,
   "id": "24fe37d6",
   "metadata": {},
   "outputs": [],
   "source": [
    "# Predict results for each classifier\n",
    "pred1 = cls1.predict(x_test)\n",
    "pred2 = cls2.predict(x_test)\n",
    "pred3 = cls3.predict(x_test)\n",
    "pred4 = cls4.predict(x_test)\n",
    "pred5 = cls5.predict(x_test)\n",
    "pred6 = cls6.predict(x_test)\n",
    "pred7 = cls7.predict(x_test)\n",
    "pred8 = cls8.predict(x_test)\n",
    "pred9 = cls9.predict(x_test)"
   ]
  },
  {
   "cell_type": "code",
   "execution_count": null,
   "id": "66081f5c",
   "metadata": {},
   "outputs": [],
   "source": [
    "from sklearn.metrics import accuracy_score\n",
    "import matplotlib.pyplot as plt  # Importing matplotlib.pyplot as plt\n",
    "\n",
    "# Calculate accuracy for each classifier\n",
    "acc_values = [\n",
    "    accuracy_score(y_test, pred1),\n",
    "    accuracy_score(y_test, pred2),\n",
    "    accuracy_score(y_test, pred3),\n",
    "    accuracy_score(y_test, pred4),\n",
    "    accuracy_score(y_test, pred5),\n",
    "    accuracy_score(y_test, pred6),\n",
    "    accuracy_score(y_test, pred7),\n",
    "    accuracy_score(y_test, pred8),\n",
    "    accuracy_score(y_test, pred9)\n",
    "]\n",
    "\n",
    "classifier_names = [\n",
    "    'GradientBoostingClassifier',\n",
    "    'LGBMClassifier',\n",
    "    'BaggingClassifier',\n",
    "    'AdaBoostClassifier',\n",
    "    'XGBClassifier',\n",
    "    'RandomForestClassifier',\n",
    "    'ExtraTreesClassifier',\n",
    "    'DecisionTreeClassifier',\n",
    "    'CatBoostClassifier'\n",
    "]\n",
    "\n",
    "# Sort accuracy values in descending order (high to low)\n",
    "acc_sorted_indices = np.argsort(acc_values)[::-1]\n",
    "acc_values_sorted = np.array(acc_values)[acc_sorted_indices]\n",
    "classifier_names_acc_sorted = np.array(classifier_names)[acc_sorted_indices]\n",
    "\n",
    "# Create a figure with a single subplot\n",
    "plt.figure(figsize=(20, 6))\n",
    "\n",
    "# Plot accuracy values (high to low)\n",
    "plt.barh(classifier_names_acc_sorted, acc_values_sorted, color='skyblue')\n",
    "plt.title('Accuracy of Classifiers (High to Low)')\n",
    "plt.xlabel('Accuracy')\n",
    "plt.xlim(0, 1)  # Assuming accuracy ranges from 0 to 1\n",
    "plt.gca().invert_yaxis()  # Best performance on top\n",
    "\n",
    "# Display the plot\n",
    "plt.tight_layout()\n",
    "plt.show()"
   ]
  },
  {
   "cell_type": "code",
   "execution_count": null,
   "id": "b97c6045",
   "metadata": {},
   "outputs": [],
   "source": [
    "# Extract feature importances\n",
    "bagging_importances = cls3.estimator_.feature_importances_\n",
    "random_forest_importances = cls6.feature_importances_\n",
    "lgbm_importances = cls2.feature_importances_\n",
    "\n",
    "# Create subplots for the three classifiers\n",
    "fig, axes = plt.subplots(1, 3, figsize=(20, 6), sharey=True)\n",
    "\n",
    "# BaggingClassifier feature importance\n",
    "axes[0].barh(X.columns, bagging_importances, color='lightcoral')\n",
    "axes[0].set_title('BaggingClassifier Feature Importance')\n",
    "axes[0].set_xlabel('Importance')\n",
    "axes[0].invert_yaxis()\n",
    "\n",
    "# RandomForestClassifier feature importance\n",
    "axes[1].barh(X.columns, random_forest_importances, color='lightblue')\n",
    "axes[1].set_title('RandomForestClassifier Feature Importance')\n",
    "axes[1].set_xlabel('Importance')\n",
    "\n",
    "# LGBMClassifier feature importance\n",
    "axes[2].barh(X.columns, lgbm_importances, color='lightgreen')\n",
    "axes[2].set_title('LGBMClassifier Feature Importance')\n",
    "axes[2].set_xlabel('Importance')\n",
    "\n",
    "# Adjust layout and display the plots\n",
    "plt.tight_layout()\n",
    "plt.show()"
   ]
  }
 ],
 "metadata": {
  "kernelspec": {
   "display_name": "base",
   "language": "python",
   "name": "python3"
  },
  "language_info": {
   "codemirror_mode": {
    "name": "ipython",
    "version": 3
   },
   "file_extension": ".py",
   "mimetype": "text/x-python",
   "name": "python",
   "nbconvert_exporter": "python",
   "pygments_lexer": "ipython3",
   "version": "3.12.7"
  }
 },
 "nbformat": 4,
 "nbformat_minor": 5
}
