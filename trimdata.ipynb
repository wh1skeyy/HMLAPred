{
 "cells": [
  {
   "cell_type": "code",
   "execution_count": 1,
   "id": "115fc1b6",
   "metadata": {},
   "outputs": [],
   "source": [
    "import pandas as pd\n",
    "\n",
    "# Read the first 1000 rows from 'train_clean.csv'\n",
    "df = pd.read_csv('train_clean.csv', nrows=1000)\n",
    "df['action_taken'] = None\n",
    "# Save to 'trim_data.csv'\n",
    "df.to_csv('trim_data.csv', index=False)"
   ]
  },
  {
   "cell_type": "code",
   "execution_count": 2,
   "id": "3c498375",
   "metadata": {},
   "outputs": [
    {
     "name": "stdout",
     "output_type": "stream",
     "text": [
      "['action_taken', 'purchaser_type', 'loan_type', 'loan_purpose', 'lien_status', 'loan_amount', 'loan_to_value_ratio', 'interest_rate', 'rate_spread', 'total_loan_costs', 'total_points_and_fees', 'origination_charges', 'discount_points', 'loan_term', 'property_value', 'construction_method', 'occupancy_type', 'manufactured_home_secured_property_type', 'manufactured_home_land_property_interest', 'total_units', 'income', 'debt_to_income_ratio', 'applicant_credit_score_type', 'co-applicant_credit_score_type', 'applicant_ethnicity-1', 'co-applicant_ethnicity-1', 'applicant_race-1', 'co-applicant_race-1', 'applicant_age', 'co-applicant_age', 'applicant_age_above_62', 'co-applicant_age_above_62', 'aus-1', 'denial_reason-1', 'ltv_category', 'dti_category', 'loan_term_category']\n"
     ]
    }
   ],
   "source": [
    "print(df.columns.tolist())"
   ]
  }
 ],
 "metadata": {
  "kernelspec": {
   "display_name": "base",
   "language": "python",
   "name": "python3"
  },
  "language_info": {
   "codemirror_mode": {
    "name": "ipython",
    "version": 3
   },
   "file_extension": ".py",
   "mimetype": "text/x-python",
   "name": "python",
   "nbconvert_exporter": "python",
   "pygments_lexer": "ipython3",
   "version": "3.12.7"
  }
 },
 "nbformat": 4,
 "nbformat_minor": 5
}
